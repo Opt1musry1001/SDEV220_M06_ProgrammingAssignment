{
 "cells": [
  {
   "cell_type": "code",
   "execution_count": 1,
   "metadata": {},
   "outputs": [
    {
     "name": "stdout",
     "output_type": "stream",
     "text": [
      "Current date (2023-10-02) has been written to today.txt\n"
     ]
    }
   ],
   "source": [
    "import datetime\n",
    "\n",
    "# Get the current date as a string\n",
    "current_date = datetime.datetime.now().strftime(\"%Y-%m-%d\")\n",
    "\n",
    "# Specify the file name\n",
    "file_name = \"today.txt\"\n",
    "\n",
    "# Open the file in write mode and write the date to it\n",
    "with open(file_name, \"w\") as file:\n",
    "    file.write(current_date)\n",
    "\n",
    "print(f\"Current date ({current_date}) has been written to {file_name}\")\n"
   ]
  },
  {
   "cell_type": "markdown",
   "metadata": {},
   "source": [
    "13.1"
   ]
  },
  {
   "cell_type": "code",
   "execution_count": 4,
   "metadata": {},
   "outputs": [
    {
     "name": "stdout",
     "output_type": "stream",
     "text": [
      "Date stored in the file today.txt: 2023-10-02\n"
     ]
    }
   ],
   "source": [
    "# Specify the file name\n",
    "file_name = \"today.txt\"\n",
    "\n",
    "# Initialize an empty string\n",
    "today_string = \"\"\n",
    "\n",
    "# Open the file in read mode and read its contents into today_string\n",
    "with open(file_name, \"r\") as file:\n",
    "    today_string = file.read()\n",
    "\n",
    "print(f\"Date stored in the file {file_name}: {today_string}\")\n"
   ]
  },
  {
   "cell_type": "markdown",
   "metadata": {},
   "source": [
    "13.2"
   ]
  },
  {
   "cell_type": "code",
   "execution_count": 6,
   "metadata": {},
   "outputs": [
    {
     "name": "stdout",
     "output_type": "stream",
     "text": [
      "Parsed Date: 2023-10-02\n"
     ]
    }
   ],
   "source": [
    "import datetime\n",
    "\n",
    "# The date format you used when writing to the file\n",
    "date_format = \"%Y-%m-%d\"\n",
    "\n",
    "# parse the date string into a datetime object\n",
    "parsed_date = datetime.datetime.strptime(today_string, date_format)\n",
    "print(f\"Parsed Date: {parsed_date.strftime(date_format)}\")\n"
   ]
  },
  {
   "cell_type": "markdown",
   "metadata": {},
   "source": [
    "13.3"
   ]
  },
  {
   "cell_type": "code",
   "execution_count": 7,
   "metadata": {},
   "outputs": [
    {
     "name": "stdout",
     "output_type": "stream",
     "text": [
      "All processes have completed.\n"
     ]
    }
   ],
   "source": [
    "import multiprocessing\n",
    "import random\n",
    "import time\n",
    "from datetime import datetime\n",
    "\n",
    "def print_current_time(process_id):\n",
    "    # Generate a random sleep time between 0 and 1 seconds\n",
    "    sleep_time = random.uniform(0, 1)\n",
    "    \n",
    "    # Sleep for the random time\n",
    "    time.sleep(sleep_time)\n",
    "    \n",
    "    # Get the current time\n",
    "    current_time = datetime.now().strftime(\"%Y-%m-%d %H:%M:%S\")\n",
    "    \n",
    "    # Print the current time and process ID\n",
    "    print(f\"Process {process_id}: Current Time: {current_time}\")\n",
    "\n",
    "if __name__ == \"__main__\":\n",
    "    # Create three separate processes\n",
    "    processes = []\n",
    "    for i in range(3):\n",
    "        process = multiprocessing.Process(target=print_current_time, args=(i,))\n",
    "        processes.append(process)\n",
    "        process.start()\n",
    "    \n",
    "    # Wait for all processes to finish\n",
    "    for process in processes:\n",
    "        process.join()\n",
    "\n",
    "    print(\"All processes have completed.\")\n"
   ]
  },
  {
   "cell_type": "markdown",
   "metadata": {},
   "source": [
    "15.1\n",
    "Note: This code runs fine in a regular .py file, but in this .ipynb file it only prints the exit message."
   ]
  }
 ],
 "metadata": {
  "kernelspec": {
   "display_name": "Python 3",
   "language": "python",
   "name": "python3"
  },
  "language_info": {
   "codemirror_mode": {
    "name": "ipython",
    "version": 3
   },
   "file_extension": ".py",
   "mimetype": "text/x-python",
   "name": "python",
   "nbconvert_exporter": "python",
   "pygments_lexer": "ipython3",
   "version": "3.10.0"
  },
  "orig_nbformat": 4
 },
 "nbformat": 4,
 "nbformat_minor": 2
}
